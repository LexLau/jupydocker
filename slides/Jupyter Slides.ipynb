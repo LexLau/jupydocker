{
 "cells": [
  {
   "cell_type": "markdown",
   "metadata": {
    "slideshow": {
     "slide_type": "slide"
    }
   },
   "source": [
    "# Jupyter Notebook Slides Demo\n",
    "## _How and why to put your Jupyter Notebooks into Docker containers_\n",
    "---\n",
    "\n",
    "### Brian Austin   \n",
    "Data Scientist   "
   ]
  },
  {
   "cell_type": "markdown",
   "metadata": {
    "slideshow": {
     "slide_type": "fragment"
    }
   },
   "source": [
    "![](https://mma.prnewswire.com/media/819833/U_Group_Logo.jpg) "
   ]
  },
  {
   "cell_type": "markdown",
   "metadata": {
    "slideshow": {
     "slide_type": "slide"
    }
   },
   "source": [
    "## What are Jupyter Notebooks?"
   ]
  },
  {
   "cell_type": "markdown",
   "metadata": {
    "slideshow": {
     "slide_type": "slide"
    }
   },
   "source": [
    "## Key Uses\n",
    "- Designing, developing and testing solutions to problems using REPR capabilities"
   ]
  },
  {
   "cell_type": "code",
   "execution_count": 1,
   "metadata": {
    "slideshow": {
     "slide_type": "fragment"
    }
   },
   "outputs": [
    {
     "data": {
      "text/plain": [
       "[{'some': 24, 'stuff': 14, 'entirely': 18, 'added': 77},\n",
       " {'other': 68, 'things': 84, 'more': 66, 'keys': 27}]"
      ]
     },
     "execution_count": 1,
     "metadata": {},
     "output_type": "execute_result"
    }
   ],
   "source": [
    "# how do I combine lists of dictionaries again?\n",
    "d_a = [{'some':24,'stuff':14},{'other':68, 'things':84}]\n",
    "d_b = [{'entirely':18,'added':77},{'more':66,'keys':27}]\n",
    "all_dicts = list(map(lambda a,b: dict(a, **b), d_a, d_b))\n",
    "all_dicts"
   ]
  },
  {
   "cell_type": "markdown",
   "metadata": {
    "slideshow": {
     "slide_type": "slide"
    }
   },
   "source": [
    "## Key Uses\n",
    "- Presenting analyses I've completed, demonstrating _both_ the code and output for them in tidy concise cells like **this** one you're reading right here currently on this slide right now."
   ]
  },
  {
   "cell_type": "code",
   "execution_count": 6,
   "metadata": {
    "slideshow": {
     "slide_type": "fragment"
    }
   },
   "outputs": [
    {
     "data": {
      "image/png": "[encoded data removed]",
      "text/plain": [
       "<Figure size 432x288 with 1 Axes>"
      ]
     },
     "metadata": {
      "needs_background": "light"
     },
     "output_type": "display_data"
    }
   ],
   "source": [
    "import matplotlib.pyplot as plt\n",
    "objects = list(x for sublist in all_dicts for x in sublist.keys())\n",
    "y_pos = range(len(objects))\n",
    "vals = [x for sublist in all_dicts for x in sublist.values()]\n",
    "\n",
    "\n",
    "plt.bar(y_pos, vals, align='center', alpha=0.7)\n",
    "plt.xticks(y_pos, objects)\n",
    "plt.ylabel('Values')\n",
    "\n",
    "plt.title('Values of stuff and things')\n",
    "\n",
    "plt.show()"
   ]
  },
  {
   "cell_type": "markdown",
   "metadata": {
    "slideshow": {
     "slide_type": "slide"
    }
   },
   "source": [
    "## Key Uses\n",
    "- Hands-on walkthroughs of new library modules, visualization techniques and strategies for attacking existing problems "
   ]
  },
  {
   "cell_type": "code",
   "execution_count": 3,
   "metadata": {
    "slideshow": {
     "slide_type": "fragment"
    }
   },
   "outputs": [
    {
     "name": "stdout",
     "output_type": "stream",
     "text": [
      "total 40\r\n",
      "drwxr-xr-x  6 brianaustin  staff    192 Oct 23 11:56 \u001b[34m.\u001b[m\u001b[m\r\n",
      "drwxr-xr-x  4 brianaustin  staff    128 Oct 22 14:09 \u001b[34m..\u001b[m\u001b[m\r\n",
      "drwxr-xr-x  3 brianaustin  staff     96 Oct 23 10:48 \u001b[34m.ipynb_checkpoints\u001b[m\u001b[m\r\n",
      "-rw-r--r--  1 brianaustin  staff    554 Oct 23 11:56 Dockerfile\r\n",
      "-rw-r--r--  1 brianaustin  staff  15863 Oct 23 11:36 Jupyter Slides.ipynb\r\n",
      "drwxr-xr-x  5 brianaustin  staff    160 Oct 23 11:53 \u001b[34msrc\u001b[m\u001b[m\r\n"
     ]
    }
   ],
   "source": [
    "!ls -al"
   ]
  },
  {
   "cell_type": "markdown",
   "metadata": {
    "slideshow": {
     "slide_type": "fragment"
    }
   },
   "source": [
    "**Notice the `src` tree with a module in it -- let's take a look at what's in there**"
   ]
  },
  {
   "cell_type": "code",
   "execution_count": 4,
   "metadata": {
    "slideshow": {
     "slide_type": "subslide"
    }
   },
   "outputs": [
    {
     "name": "stdout",
     "output_type": "stream",
     "text": [
      "src\n",
      "├── __init__.py\n",
      "├── __pycache__\n",
      "│   ├── __init__.cpython-36.pyc\n",
      "│   └── new_module.cpython-36.pyc\n",
      "└── new_module.py\n",
      "\n",
      "1 directory, 4 files\n"
     ]
    }
   ],
   "source": [
    "%%bash\n",
    "tree src"
   ]
  },
  {
   "cell_type": "code",
   "execution_count": 5,
   "metadata": {
    "slideshow": {
     "slide_type": "fragment"
    }
   },
   "outputs": [],
   "source": [
    "%load_ext autoreload\n",
    "%autoreload 2\n",
    "\n",
    "from src import new_module"
   ]
  },
  {
   "cell_type": "code",
   "execution_count": 7,
   "metadata": {},
   "outputs": [
    {
     "data": {
      "text/plain": [
       "'em esrever'"
      ]
     },
     "execution_count": 7,
     "metadata": {},
     "output_type": "execute_result"
    }
   ],
   "source": [
    "# this function is \n",
    "new_module.reverse('reverse me') "
   ]
  },
  {
   "cell_type": "markdown",
   "metadata": {
    "slideshow": {
     "slide_type": "slide"
    }
   },
   "source": [
    "## Major Drawbacks"
   ]
  },
  {
   "cell_type": "code",
   "execution_count": null,
   "metadata": {},
   "outputs": [],
   "source": []
  }
 ],
 "metadata": {
  "celltoolbar": "Slideshow",
  "kernelspec": {
   "display_name": "dev",
   "language": "python",
   "name": "dev"
  },
  "language_info": {
   "codemirror_mode": {
    "name": "ipython",
    "version": 3
   },
   "file_extension": ".py",
   "mimetype": "text/x-python",
   "name": "python",
   "nbconvert_exporter": "python",
   "pygments_lexer": "ipython3",
   "version": "3.6.5"
  }
 },
 "nbformat": 4,
 "nbformat_minor": 2
}
