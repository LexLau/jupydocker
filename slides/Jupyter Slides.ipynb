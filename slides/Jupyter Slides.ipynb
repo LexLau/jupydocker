{
 "cells": [
  {
   "cell_type": "markdown",
   "metadata": {
    "slideshow": {
     "slide_type": "slide"
    }
   },
   "source": [
    "# Jupyter Notebook Slides Demo\n",
    "## _How and why to put your Jupyter Notebooks into Docker containers_\n",
    "---\n",
    "\n",
    "### Brian Austin   \n",
    "Data Scientist   \n",
    "<img style=\"float: middle;padding:20px;width:150px\" src=\"https://mma.prnewswire.com/media/819833/U_Group_Logo.jpg\">\n"
   ]
  },
  {
   "cell_type": "markdown",
   "metadata": {
    "slideshow": {
     "slide_type": "slide"
    }
   },
   "source": [
    "## What are Jupyter notebooks and how do I use them?"
   ]
  },
  {
   "cell_type": "markdown",
   "metadata": {
    "slideshow": {
     "slide_type": "slide"
    }
   },
   "source": [
    "## Key Uses\n",
    "- Designing, developing and testing solutions to problems using REPR capabilities"
   ]
  },
  {
   "cell_type": "code",
   "execution_count": 10,
   "metadata": {
    "slideshow": {
     "slide_type": "fragment"
    }
   },
   "outputs": [
    {
     "name": "stdout",
     "output_type": "stream",
     "text": [
      "is it this?\n"
     ]
    },
    {
     "data": {
      "text/plain": [
       "[{'some': 24, 'stuff': 14, 'entirely': 18, 'added': 77},\n",
       " {'other': 68, 'things': 84, 'more': 66, 'keys': 27}]"
      ]
     },
     "execution_count": 10,
     "metadata": {},
     "output_type": "execute_result"
    }
   ],
   "source": [
    "# how do I combine lists of dictionaries again?\n",
    "print('is it this?')\n",
    "d_a = [{'some':24,'stuff':14},{'other':68, 'things':84}]\n",
    "d_b = [{'entirely':18,'added':77},{'more':66,'keys':27}]\n",
    "all_dicts = list(map(lambda a,b: dict(a, **b), d_a, d_b))\n",
    "all_dicts"
   ]
  },
  {
   "cell_type": "markdown",
   "metadata": {
    "slideshow": {
     "slide_type": "slide"
    }
   },
   "source": [
    "## Key Uses\n",
    "- Presenting analyses I've completed, demonstrating _both_ the code and output for them in tidy concise cells like **this** one you're reading right here currently on this slide right now."
   ]
  },
  {
   "cell_type": "code",
   "execution_count": 11,
   "metadata": {
    "slideshow": {
     "slide_type": "fragment"
    }
   },
   "outputs": [
    {
     "data": {
      "image/png": "[encoded data removed]",
      "text/plain": [
       "<Figure size 432x288 with 1 Axes>"
      ]
     },
     "metadata": {
      "needs_background": "light"
     },
     "output_type": "display_data"
    }
   ],
   "source": [
    "import matplotlib.pyplot as plt\n",
    "%matplotlib inline\n",
    "objects = list(x for sublist in all_dicts for x in sublist.keys())\n",
    "y_pos = range(len(objects))\n",
    "vals = [x for sublist in all_dicts for x in sublist.values()]\n",
    "\n",
    "plt.bar(y_pos, vals, align='center', alpha=0.7)\n",
    "plt.xticks(y_pos, objects)\n",
    "plt.ylabel('Values')\n",
    "plt.title('Values of things and stuff')\n",
    "plt.show()"
   ]
  },
  {
   "cell_type": "markdown",
   "metadata": {
    "slideshow": {
     "slide_type": "slide"
    }
   },
   "source": [
    "## Key Uses\n",
    "- Hands-on walkthroughs of new library modules, visualization techniques and strategies for attacking existing problems "
   ]
  },
  {
   "cell_type": "code",
   "execution_count": 12,
   "metadata": {
    "slideshow": {
     "slide_type": "fragment"
    }
   },
   "outputs": [
    {
     "name": "stdout",
     "output_type": "stream",
     "text": [
      "total 40\r\n",
      "drwxr-xr-x  6 brianaustin  staff    192 Oct 28 10:38 \u001b[34m.\u001b[m\u001b[m\r\n",
      "drwxr-xr-x  6 brianaustin  staff    192 Oct 23 12:30 \u001b[34m..\u001b[m\u001b[m\r\n",
      "drwxr-xr-x  3 brianaustin  staff     96 Oct 23 10:48 \u001b[34m.ipynb_checkpoints\u001b[m\u001b[m\r\n",
      "-rw-r--r--  1 brianaustin  staff    554 Oct 23 11:56 Dockerfile\r\n",
      "-rw-r--r--  1 brianaustin  staff  16010 Oct 28 10:38 Jupyter Slides.ipynb\r\n",
      "drwxr-xr-x  4 brianaustin  staff    128 Oct 28 10:37 \u001b[34msrc\u001b[m\u001b[m\r\n"
     ]
    }
   ],
   "source": [
    "!ls -al"
   ]
  },
  {
   "cell_type": "markdown",
   "metadata": {
    "slideshow": {
     "slide_type": "fragment"
    }
   },
   "source": [
    "**Notice the `src` tree with a module in it -- let's take a look at what's in there**"
   ]
  },
  {
   "cell_type": "code",
   "execution_count": 17,
   "metadata": {
    "slideshow": {
     "slide_type": "skip"
    }
   },
   "outputs": [],
   "source": [
    "%%bash \n",
    "rm -rf src/__pycache__/"
   ]
  },
  {
   "cell_type": "code",
   "execution_count": 18,
   "metadata": {
    "slideshow": {
     "slide_type": "subslide"
    }
   },
   "outputs": [
    {
     "name": "stdout",
     "output_type": "stream",
     "text": [
      "src/\n",
      "├── __init__.py\n",
      "└── new_module.py\n",
      "\n",
      "0 directories, 2 files\n"
     ]
    }
   ],
   "source": [
    "%%bash\n",
    "tree src/"
   ]
  },
  {
   "cell_type": "code",
   "execution_count": 14,
   "metadata": {
    "slideshow": {
     "slide_type": "fragment"
    }
   },
   "outputs": [],
   "source": [
    "%load_ext autoreload\n",
    "%autoreload 2\n",
    "\n",
    "from src import new_module"
   ]
  },
  {
   "cell_type": "code",
   "execution_count": 15,
   "metadata": {},
   "outputs": [
    {
     "data": {
      "text/plain": [
       "'em esrever'"
      ]
     },
     "execution_count": 15,
     "metadata": {},
     "output_type": "execute_result"
    }
   ],
   "source": [
    "# this function is imported from the local src library \n",
    "new_module.reverse('reverse me') "
   ]
  },
  {
   "cell_type": "markdown",
   "metadata": {
    "slideshow": {
     "slide_type": "slide"
    }
   },
   "source": [
    "## Major Drawbacks\n",
    "   \n",
    "_Why don't people collaborate on one another's Jupyter notebooks more often?_"
   ]
  },
  {
   "cell_type": "markdown",
   "metadata": {
    "slideshow": {
     "slide_type": "slide"
    }
   },
   "source": [
    "### 1. Trying to organize things feels like more trouble than it's worth\n",
    "\n",
    "\n",
    "The ad hoc nature of notebooks is excellent for trying things out but tends to run into problems when you need to reproduce your work for someone else. There are cells all over the place, they’ve been run in a random order as you tried to get something working. \n"
   ]
  },
  {
   "cell_type": "markdown",
   "metadata": {
    "slideshow": {
     "slide_type": "fragment"
    }
   },
   "source": [
    "\n",
    "<img style=\"float: right;padding:20px;width:450px\" src=\"https://media.giphy.com/media/47JYommcSWTeiHmG0B/giphy.gif\">\n",
    "\n",
    "#### _TFW somebody didn't clean up their notebooks and now there is a maze of errors_"
   ]
  },
  {
   "cell_type": "markdown",
   "metadata": {
    "slideshow": {
     "slide_type": "slide"
    }
   },
   "source": [
    "### 2. Either include your expensive cleaning/training steps or have reproducible workflow\n",
    "When you use Jupyter notebooks to develop workflows, you might spend a bunch of time doing expensive setup, cleaning, or training operations that you don’t necessarily need for a new audience to repeat. It might be easier if they could just start with the cleaned data, the trained model, and get right to the analysis."
   ]
  },
  {
   "cell_type": "markdown",
   "metadata": {
    "slideshow": {
     "slide_type": "slide"
    }
   },
   "source": [
    "### 3. Setting up an environment creates a lot of room for error\n",
    "Even if you do want someone to repeat all your steps, ensuring they have their system set up in the same way you did when you made the initial analysis requires you to both do everything on your end correctly and also ensure that anyone you want to use your analysis can easily set up and get stated.    "
   ]
  },
  {
   "cell_type": "markdown",
   "metadata": {
    "slideshow": {
     "slide_type": "notes"
    }
   },
   "source": [
    " This step can be non-trivial. It might require you to save a requirements.txt file using the correct specific versions of your packages, make your module installable using a setup.py file, run a specific version of python, and ensure you don’t have any conflicting dependencies with any of your other libraries (or set up a virtual environment for just this analysis, install the requirements, and load the virtualenv as a conda environment that your Jupyter notebook can access, and be sure to activate it as the kernel used when you review the analysis)."
   ]
  },
  {
   "cell_type": "markdown",
   "metadata": {
    "slideshow": {
     "slide_type": "-"
    }
   },
   "source": [
    "So that means _after_ you're done you need to:"
   ]
  },
  {
   "cell_type": "markdown",
   "metadata": {
    "slideshow": {
     "slide_type": "fragment"
    }
   },
   "source": [
    "1. Save a `requirements.txt` file using the correct specific versions of your packages."
   ]
  },
  {
   "cell_type": "markdown",
   "metadata": {
    "slideshow": {
     "slide_type": "fragment"
    }
   },
   "source": [
    "2. Make sure your code is usable for the versions of python your audience will need. Or include instructions on installation."
   ]
  },
  {
   "cell_type": "markdown",
   "metadata": {
    "slideshow": {
     "slide_type": "fragment"
    }
   },
   "source": [
    "3. Make sure that any conflicting versions of packaging dependencies are worked out in the requirements file, not just for the packages you use, but for conflicts that might exist for any user. _Yikes._"
   ]
  },
  {
   "cell_type": "markdown",
   "metadata": {
    "slideshow": {
     "slide_type": "slide"
    }
   },
   "source": [
    "#### _OR you could..._\n",
    "4. Assume the audience will be able to set up a virtual environment for this analysis."
   ]
  },
  {
   "cell_type": "markdown",
   "metadata": {
    "slideshow": {
     "slide_type": "fragment"
    }
   },
   "source": [
    "5. And that they will install the requirements into that virtual environment."
   ]
  },
  {
   "cell_type": "markdown",
   "metadata": {
    "slideshow": {
     "slide_type": "fragment"
    }
   },
   "source": [
    "6. And that they will load the virtual environment as a conda environment that the Jupyter notebook can access, and activate that kernel when they start up the notebook"
   ]
  },
  {
   "cell_type": "markdown",
   "metadata": {
    "slideshow": {
     "slide_type": "fragment"
    }
   },
   "source": [
    "> *Sidenote: This is actually a really common pattern for me and a thing that I repeatedly have to Google.* **(python 3.6+)**    \n",
    ">`python -m venv ~/place/for/envs/<ENV_NAME>`    \n",
    ">`source ~/place/for/envs/<ENV_NAME>/bin/activate`   \n",
    ">`pip install ipykernel jupyter`   \n",
    ">`ipython kernel install --name=<ENV_NAME>`   \n"
   ]
  },
  {
   "cell_type": "markdown",
   "metadata": {
    "slideshow": {
     "slide_type": "slide"
    }
   },
   "source": [
    "### 4. Version control is a nightmare\n",
    "Raw `.ipynb` files contain tons of nested JSON, which updates each time a cell has been run -- which data scientists do frequently and meaninglessly. Re-running graphs or other large python objects also updates the giant binary blob that feeds the notebook backend. \n",
    "\n",
    "**Just don't expect to be able to diff changes in notebooks, basically ever.**"
   ]
  },
  {
   "cell_type": "markdown",
   "metadata": {
    "slideshow": {
     "slide_type": "notes"
    }
   },
   "source": [
    "##### Yes, I know\n",
    "There are good packages for this. "
   ]
  },
  {
   "cell_type": "markdown",
   "metadata": {
    "slideshow": {
     "slide_type": "slide"
    }
   },
   "source": [
    "## Why does any of this matter?\n",
    "Yes, my work can be hard for someone else to pick up, but why should I care? I've already done the analysis."
   ]
  },
  {
   "cell_type": "markdown",
   "metadata": {
    "slideshow": {
     "slide_type": "slide"
    }
   },
   "source": [
    "## Analysis is only as good as your ability to communicate it"
   ]
  },
  {
   "cell_type": "markdown",
   "metadata": {
    "slideshow": {
     "slide_type": "fragment"
    }
   },
   "source": [
    "(and also, sometimes you're wrong...)"
   ]
  },
  {
   "cell_type": "markdown",
   "metadata": {
    "slideshow": {
     "slide_type": "slide"
    }
   },
   "source": [
    "## Containerization\n",
    "Docker containers can take some of these headaches away, or at least put them onto the developer/data scientist who built it\n",
    "![](http://community.datacamp.com.s3.amazonaws.com/community/production/ckeditor_assets/pictures/204/content_docker.png)"
   ]
  },
  {
   "cell_type": "markdown",
   "metadata": {
    "slideshow": {
     "slide_type": "fragment"
    }
   },
   "source": [
    "### We'll walk through the steps to creating a Docker image from a Dockerfile, and build one together"
   ]
  },
  {
   "cell_type": "markdown",
   "metadata": {
    "slideshow": {
     "slide_type": "slide"
    }
   },
   "source": [
    "## 1. Build a base image\n",
    "Create a Dockerfile (just name the file \"Dockerfile\")"
   ]
  },
  {
   "attachments": {},
   "cell_type": "markdown",
   "metadata": {
    "slideshow": {
     "slide_type": "fragment"
    }
   },
   "source": [
    "```\n",
    "FROM FROM python:3.6-slim\n",
    "RUN apt-get update && apt-get install -qq -y \\\n",
    "  build-essential libpq-dev libffi-dev --no-install-recommends\n",
    "RUN apt-get install -y build-essential python3.6 python3-pip python3-dev\n",
    "RUN pip3 -q install pip –upgrade\n",
    "```\n"
   ]
  },
  {
   "cell_type": "markdown",
   "metadata": {},
   "source": [
    "## 2. Set up the source code Docker will run"
   ]
  },
  {
   "cell_type": "markdown",
   "metadata": {},
   "source": [
    "Let's take a look at the `src/` library we started working with earlier."
   ]
  },
  {
   "cell_type": "code",
   "execution_count": 19,
   "metadata": {},
   "outputs": [
    {
     "name": "stdout",
     "output_type": "stream",
     "text": [
      "total 16\n",
      "drwxr-xr-x  4 brianaustin  staff  128 Oct 28 10:41 .\n",
      "drwxr-xr-x  6 brianaustin  staff  192 Oct 28 16:09 ..\n",
      "-rw-r--r--  1 brianaustin  staff   26 Oct 23 11:47 __init__.py\n",
      "-rw-r--r--  1 brianaustin  staff   75 Oct 23 11:53 new_module.py\n"
     ]
    }
   ],
   "source": [
    "%%bash\n",
    "ls -al src/"
   ]
  },
  {
   "cell_type": "code",
   "execution_count": null,
   "metadata": {},
   "outputs": [],
   "source": []
  },
  {
   "cell_type": "markdown",
   "metadata": {
    "slideshow": {
     "slide_type": "slide"
    }
   },
   "source": [
    "## The \"Why don't you just\" slide\n",
    "There are good alternative solutions to almost everything I've presented here. This is one way to do it. Do it other ways if you like those better!\n",
    "\n",
    "### Alternatives list\n",
    "- Simplify your notebook's json output for version control diffs with [nbconvert](https://nextjournal.com/schmudde/how-to-version-control-jupyter) or [nbdime](https://github.com/jupyter/nbdime)\n",
    "- [Repo2Docker](https://hub.docker.com/r/jupyter/repo2docker), a Jupyter-built Docker image specifically for turning a git repository into a Jupyter-enabled "
   ]
  },
  {
   "cell_type": "markdown",
   "metadata": {
    "slideshow": {
     "slide_type": "slide"
    }
   },
   "source": [
    "## References and Resources\n",
    "\n",
    "- [RISE](https://github.com/damianavila/RISE) is a Jupyter extension that allows running of notebooks iteratively as slides\n",
    "- Matt Speck's [guide to launching slides](https://medium.com/@mjspeck/presenting-code-using-jupyter-notebook-slides-a8a3c3b59d67)"
   ]
  },
  {
   "cell_type": "code",
   "execution_count": null,
   "metadata": {},
   "outputs": [],
   "source": []
  }
 ],
 "metadata": {
  "celltoolbar": "Slideshow",
  "kernelspec": {
   "display_name": "dev",
   "language": "python",
   "name": "dev"
  },
  "language_info": {
   "codemirror_mode": {
    "name": "ipython",
    "version": 3
   },
   "file_extension": ".py",
   "mimetype": "text/x-python",
   "name": "python",
   "nbconvert_exporter": "python",
   "pygments_lexer": "ipython3",
   "version": "3.6.5"
  }
 },
 "nbformat": 4,
 "nbformat_minor": 2
}
