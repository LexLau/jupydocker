{
 "cells": [
  {
   "cell_type": "markdown",
   "metadata": {
    "slideshow": {
     "slide_type": "slide"
    }
   },
   "source": [
    "## _How and why to put your Jupyter Notebooks into Docker containers_\n",
    "\n",
    "## To follow along with the slides locally:\n",
    "\n",
    "#### 1. `docker run -p 8899:8888 brianaustin/jupydocker`\n",
    "\n",
    "#### 2. open `localhost:8899` and enter password `pydata`\n",
    "\n",
    "#### 3. click `JupyDockerSlides.ipynb` and click the little <button class=\"btn btn-default\" title=\"Enter/Exit RISE Slideshow\" id=\"RISE\" data-jupyter-action=\"RISE:slideshow\" data-ol-has-click-handler=\"\"><i class=\"fa-bar-chart fa\"></i></button> icon on top\n",
    "\n",
    "\n",
    "\n",
    "## OR\n",
    "\n",
    "### Github: `github.com/austinbrian/jupydocker`"
   ]
  },
  {
   "cell_type": "markdown",
   "metadata": {
    "slideshow": {
     "slide_type": "notes"
    }
   },
   "source": [
    "* This is listed as a novice talk, but really it assumes some exposure to Jupyter, and a conceptual understanding of Docker.\n",
    "\n",
    "* This talk was built with and runs on a Docker container. The instructions on this first page are the instructions that are necessary to share the image that we will build up."
   ]
  },
  {
   "cell_type": "markdown",
   "metadata": {
    "slideshow": {
     "slide_type": "slide"
    }
   },
   "source": [
    "# _How and why to put your Jupyter Notebooks into Docker containers_\n",
    "---\n",
    "\n",
    "### Brian Austin   \n",
    "Data Scientist   \n",
    "<img style=\"float: middle;padding:10px;width:150px\" src=\"static/ugrouplogo.jpeg\">\n",
    "\n",
    "\n"
   ]
  },
  {
   "cell_type": "markdown",
   "metadata": {
    "slideshow": {
     "slide_type": "slide"
    }
   },
   "source": [
    "## Outline\n",
    "1. Some quick uses of Jupyter notebooks\n",
    "2. Drawbacks of Jupyter \n",
    "3. Brief overview of Docker\n",
    "4. Walkthrough of using a Dockerfile to embed Jupyter notebook in a Docker container\n",
    "5. Sharing a Docker container with an audience via Docker Hub"
   ]
  },
  {
   "cell_type": "markdown",
   "metadata": {
    "slideshow": {
     "slide_type": "notes"
    }
   },
   "source": [
    "There have been a lot of good talks about doing great data science, but I'm going to talk about how to _share_ good data science."
   ]
  },
  {
   "cell_type": "markdown",
   "metadata": {
    "slideshow": {
     "slide_type": "slide"
    }
   },
   "source": [
    "## Analysis is only as good as your ability to communicate it\n",
    "This talk has been made using the techniques it describes."
   ]
  },
  {
   "cell_type": "markdown",
   "metadata": {
    "slideshow": {
     "slide_type": "slide"
    }
   },
   "source": [
    "## Motivating Problem for this Talk\n",
    "\n",
    "A client requested a **runnable notebook** with the code required to **view and run all AI/ML models** used for the analysis."
   ]
  },
  {
   "cell_type": "markdown",
   "metadata": {
    "slideshow": {
     "slide_type": "fragment"
    }
   },
   "source": [
    "* Government client\n",
    "* Basic technical skills, but confidence in some of the finer points was not high\n",
    "* Nbviewer export was not a sufficient solution\n",
    "* Submission, so no opportunity for follow-up instructions or troubleshooting\n",
    "* Instructions were to avoid vendor lock-in, so wanted something other than AWS SageMaker"
   ]
  },
  {
   "cell_type": "markdown",
   "metadata": {
    "slideshow": {
     "slide_type": "-"
    }
   },
   "source": [
    "This use case represents the broader problem of **receiving a Jupyter notebook** and needing to be able to actively review and interact with it."
   ]
  },
  {
   "cell_type": "markdown",
   "metadata": {
    "slideshow": {
     "slide_type": "notes"
    }
   },
   "source": [
    "If you weren't sure they could do it, why did you send them a Jupyter notebook? What were you using it for?"
   ]
  },
  {
   "cell_type": "markdown",
   "metadata": {
    "slideshow": {
     "slide_type": "slide"
    }
   },
   "source": [
    "## How we were using Jupyter notebooks"
   ]
  },
  {
   "cell_type": "markdown",
   "metadata": {
    "slideshow": {
     "slide_type": "slide"
    }
   },
   "source": [
    "### Persistent read-evaluate-print loop\n",
    "- Designing, developing and testing solutions to problems using Jupyter as a persistent IDE\n",
    "- Testing individual functions and components for speed \n",
    "- Fast iteration with in-memory data objects (e.g., pandas DataFrames, Neo4j subgraph objects)"
   ]
  },
  {
   "cell_type": "code",
   "execution_count": 1,
   "metadata": {
    "slideshow": {
     "slide_type": "fragment"
    }
   },
   "outputs": [
    {
     "data": {
      "text/plain": [
       "[{'some': 24, 'stuff': 14, 'entirely': 18, 'added': 77},\n",
       " {'other': 68, 'things': 84, 'more': 66, 'keys': 27}]"
      ]
     },
     "execution_count": 1,
     "metadata": {},
     "output_type": "execute_result"
    }
   ],
   "source": [
    "# how do I zip up json objects again?\n",
    "\n",
    "d_a = [{'some':24,'stuff':14},{'other':68, 'things':84}]\n",
    "d_b = [{'entirely':18,'added':77},{'more':66,'keys':27}]\n",
    "all_dicts = list(map(lambda a,b: dict(a, **b), d_a, d_b))\n",
    "all_dicts"
   ]
  },
  {
   "cell_type": "markdown",
   "metadata": {
    "slideshow": {
     "slide_type": "slide"
    }
   },
   "source": [
    "### Analysis presentation\n",
    "- Presenting analyses I've completed, demonstrating _both_ the code and output for them in tidy concise cells like **this** one you're reading right here currently on this slide right now.\n",
    "- Vizualization iteration\n",
    "- Code evaluation and sharing"
   ]
  },
  {
   "cell_type": "markdown",
   "metadata": {
    "slideshow": {
     "slide_type": "notes"
    }
   },
   "source": [
    "- This whole slideshow is built in a jupyter notebook (running on a docker container)\n",
    "- This the key use case for the scenario we talked about, with the other two as supporting\n",
    "- Don't do code review using notebooks, but use them to share and talk about methods -- good for pairing\n"
   ]
  },
  {
   "cell_type": "code",
   "execution_count": 2,
   "metadata": {
    "slideshow": {
     "slide_type": "fragment"
    }
   },
   "outputs": [
    {
     "data": {
      "image/png": "[encoded data removed]",
      "text/plain": [
       "<Figure size 432x288 with 1 Axes>"
      ]
     },
     "metadata": {},
     "output_type": "display_data"
    }
   ],
   "source": [
    "import matplotlib.pyplot as plt\n",
    "%matplotlib inline\n",
    "objects = list(x for sublist in all_dicts for x in sublist.keys())\n",
    "y_pos = range(len(objects))\n",
    "vals = [x for sublist in all_dicts for x in sublist.values()]\n",
    "\n",
    "plt.bar(y_pos, vals, align='center', alpha=0.7)\n",
    "plt.xticks(y_pos, objects)\n",
    "plt.ylabel('Values')\n",
    "plt.title('Values of things and stuff')\n",
    "plt.show()"
   ]
  },
  {
   "cell_type": "markdown",
   "metadata": {
    "slideshow": {
     "slide_type": "slide"
    }
   },
   "source": [
    "### Library/module walkthroughs\n",
    "- Hands-on walkthroughs of new library modules\n",
    "- New visualization techniques and demonstrations\n",
    "- Establish new strategies for attacking existing problems using familiar libraries"
   ]
  },
  {
   "cell_type": "markdown",
   "metadata": {},
   "source": [
    "**Won't go through this here, but the `demo/` directory of this github repo has a full example.**"
   ]
  },
  {
   "cell_type": "markdown",
   "metadata": {
    "slideshow": {
     "slide_type": "fragment"
    }
   },
   "source": [
    "But let's take a really quick look at what's in there."
   ]
  },
  {
   "cell_type": "code",
   "execution_count": 3,
   "metadata": {
    "slideshow": {
     "slide_type": "skip"
    }
   },
   "outputs": [],
   "source": [
    "import os\n",
    "\n",
    "def list_files(startpath):\n",
    "    for root, dirs, files in os.walk(startpath):\n",
    "        level = root.replace(startpath, '').count(os.sep)\n",
    "        indent = ' ' * 4 * (level)\n",
    "        print('{}{}/'.format(indent, os.path.basename(root)))\n",
    "        subindent = ' ' * 4 * (level + 1)\n",
    "        for f in files:\n",
    "            print('{}{}'.format(subindent, f))"
   ]
  },
  {
   "cell_type": "markdown",
   "metadata": {
    "slideshow": {
     "slide_type": "skip"
    }
   },
   "source": [
    "Thanks, StackOverflow! https://stackoverflow.com/questions/9727673/list-directory-tree-structure-in-python"
   ]
  },
  {
   "cell_type": "code",
   "execution_count": 4,
   "metadata": {
    "slideshow": {
     "slide_type": "subslide"
    }
   },
   "outputs": [
    {
     "name": "stdout",
     "output_type": "stream",
     "text": [
      "demo/\n",
      "    Dockerfile\n",
      "    Demo.ipynb\n",
      "    .ipynb_checkpoints/\n",
      "        Demo-checkpoint.ipynb\n",
      "    src/\n",
      "        data_pipeline.py\n",
      "        requirements.txt\n",
      "        __init__.py\n",
      "        new_module.py\n",
      "        data/\n",
      "            raw_data.csv\n"
     ]
    }
   ],
   "source": [
    "list_files('../demo')"
   ]
  },
  {
   "cell_type": "markdown",
   "metadata": {
    "slideshow": {
     "slide_type": "notes"
    }
   },
   "source": [
    "Great example of new strategies is Enigma Technologies' [blog post on using TF-IDF to classify tabular data](https://www.enigma.com/blog/tf-idf-for-tabular-data-featurization-and-classification) -- I'd love to see that as a Jupyter notebook (or Docker container!)"
   ]
  },
  {
   "cell_type": "markdown",
   "metadata": {
    "slideshow": {
     "slide_type": "slide"
    }
   },
   "source": [
    "## Major Drawbacks\n",
    "   \n",
    "_Why don't people collaborate on one another's Jupyter notebooks more often?_"
   ]
  },
  {
   "cell_type": "markdown",
   "metadata": {
    "slideshow": {
     "slide_type": "slide"
    }
   },
   "source": [
    "### Organization is tough\n",
    "\n",
    "#### _Trying to organize things feels like more trouble than it's worth_\n",
    "\n",
    "\n",
    "The ad hoc nature of notebooks is excellent for trying things out but tends to run into problems when you need to reproduce your work for someone else. There are cells all over the place, they’ve been run in a random order as you tried to get something working. \n"
   ]
  },
  {
   "cell_type": "markdown",
   "metadata": {
    "slideshow": {
     "slide_type": "fragment"
    }
   },
   "source": [
    "\n",
    "<img style=\"float: right;padding:20px;width:400px\" src=\"https://media.giphy.com/media/47JYommcSWTeiHmG0B/giphy.gif\">\n",
    "\n",
    "#### _TFW somebody didn't clean up their notebooks and now there is a maze of errors_"
   ]
  },
  {
   "cell_type": "markdown",
   "metadata": {
    "slideshow": {
     "slide_type": "slide"
    }
   },
   "source": [
    "### Time pressure limits reproducibility\n",
    "#### _Either include your expensive cleaning/training steps or have reproducible workflow_\n",
    "When you use Jupyter notebooks to develop workflows, you might spend a bunch of time doing expensive setup, cleaning, or training operations that you don’t necessarily need for a new audience to repeat. It might be easier if they could just start with the cleaned data, the trained model, and get right to the analysis."
   ]
  },
  {
   "cell_type": "markdown",
   "metadata": {
    "slideshow": {
     "slide_type": "slide"
    }
   },
   "source": [
    "### Setting up an environment creates a lot of room for error\n",
    "Even if you do want someone to repeat all your steps, ensuring they have their system set up in the same way you did when you made the initial analysis requires you to both do everything on your end correctly and also ensure that anyone you want to use your analysis can easily set up and get stated.    "
   ]
  },
  {
   "cell_type": "markdown",
   "metadata": {
    "slideshow": {
     "slide_type": "notes"
    }
   },
   "source": [
    " This step can be non-trivial. It might require you to save a requirements.txt file using the correct specific versions of your packages, make your module installable using a setup.py file, run a specific version of python, and ensure you don’t have any conflicting dependencies with any of your other libraries (or set up a virtual environment for just this analysis, install the requirements, and load the virtualenv as a conda environment that your Jupyter notebook can access, and be sure to activate it as the kernel used when you review the analysis)."
   ]
  },
  {
   "cell_type": "markdown",
   "metadata": {
    "slideshow": {
     "slide_type": "-"
    }
   },
   "source": [
    "So that means after you're done with your analysis you need to:"
   ]
  },
  {
   "cell_type": "markdown",
   "metadata": {
    "slideshow": {
     "slide_type": "fragment"
    }
   },
   "source": [
    "1. Save a `requirements.txt` file using the correct specific versions of your packages."
   ]
  },
  {
   "cell_type": "markdown",
   "metadata": {
    "slideshow": {
     "slide_type": "fragment"
    }
   },
   "source": [
    "2. Make sure your code is usable for the versions of python your audience will need. Or include instructions on installation."
   ]
  },
  {
   "cell_type": "markdown",
   "metadata": {
    "slideshow": {
     "slide_type": "fragment"
    }
   },
   "source": [
    "3. Make sure that any conflicting versions of packaging dependencies are worked out in the requirements file, not just for the packages you use, but for conflicts that might exist for any user. _Yikes._"
   ]
  },
  {
   "cell_type": "markdown",
   "metadata": {
    "slideshow": {
     "slide_type": "slide"
    }
   },
   "source": [
    "#### _OR you could..._\n",
    "4. Assume the audience will be able to set up a virtual environment for this analysis."
   ]
  },
  {
   "cell_type": "markdown",
   "metadata": {
    "slideshow": {
     "slide_type": "fragment"
    }
   },
   "source": [
    "5. And that they will install the requirements into that virtual environment."
   ]
  },
  {
   "cell_type": "markdown",
   "metadata": {
    "slideshow": {
     "slide_type": "fragment"
    }
   },
   "source": [
    "6. And that they will load the virtual environment as a conda environment that the Jupyter notebook can access, and activate that kernel when they start up the notebook"
   ]
  },
  {
   "cell_type": "markdown",
   "metadata": {
    "slideshow": {
     "slide_type": "fragment"
    }
   },
   "source": [
    "> *Sidenote: This is actually a really common pattern for me and a thing that I repeatedly have to Google.* **(python 3.6+)**    \n",
    ">`python -m venv ~/place/for/envs/<ENV_NAME>`    \n",
    ">`source ~/place/for/envs/<ENV_NAME>/bin/activate`   \n",
    ">`pip install ipykernel jupyter`   \n",
    ">`ipython kernel install --name=<ENV_NAME>`   \n"
   ]
  },
  {
   "cell_type": "markdown",
   "metadata": {
    "slideshow": {
     "slide_type": "slide"
    }
   },
   "source": [
    "### Version control is a nightmare\n",
    "Raw `.ipynb` files contain tons of nested JSON, which updates each time a cell has been run -- which data scientists do frequently and meaninglessly. Re-running graphs or other large python objects also updates the giant binary blob that feeds the notebook backend. \n",
    "\n",
    "![](static/screen-shot-2018-07-23-at-4-51-38-pm1.png?w=700)\n",
    "\n",
    "**Trying to diff changes in notebooks is hard; trying to merge them is _very_ hard**"
   ]
  },
  {
   "cell_type": "markdown",
   "metadata": {
    "slideshow": {
     "slide_type": "slide"
    }
   },
   "source": [
    "## Containerization\n",
    "_Who should bear the brunt of these headaches?_\n",
    "![](static/datacamp_docker_jupyter.png)"
   ]
  },
  {
   "cell_type": "markdown",
   "metadata": {
    "slideshow": {
     "slide_type": "fragment"
    }
   },
   "source": [
    "### We'll walk through the steps to creating a Docker image from a Dockerfile\n",
    "(And this is one right now!)"
   ]
  },
  {
   "cell_type": "markdown",
   "metadata": {
    "slideshow": {
     "slide_type": "slide"
    }
   },
   "source": [
    "## A brief introduction to Docker"
   ]
  },
  {
   "cell_type": "markdown",
   "metadata": {
    "slideshow": {
     "slide_type": "-"
    }
   },
   "source": [
    "* Docker containers are **standalone, ephemeral virtual machines** running on a host machine. \n",
    "* Host can be a local or cloud, with constellation of supporting services (ECS, Kubernetes, etc)\n",
    "\n",
    "### Key terms\n",
    "- Dockerfile = \"instructions\"\n",
    "- Docker image --> `docker build`\n",
    "- Docker container --> `docker run`"
   ]
  },
  {
   "cell_type": "markdown",
   "metadata": {
    "slideshow": {
     "slide_type": "slide"
    }
   },
   "source": [
    "![](static/Docker_schematic.png)"
   ]
  },
  {
   "cell_type": "markdown",
   "metadata": {
    "slideshow": {
     "slide_type": "slide"
    }
   },
   "source": [
    "## Where you're starting\n",
    "Assume you have a completed analysis Jupyter notebook. The object is to have a running, reproducible notebook."
   ]
  },
  {
   "cell_type": "markdown",
   "metadata": {
    "slideshow": {
     "slide_type": "fragment"
    }
   },
   "source": [
    "We need to generate a process that will:\n",
    "1. Build a base image\n",
    "2. Set up the source code Docker will run\n",
    "3. Prep your data, run the required code, and start the notebook\n",
    "\n",
    "These steps create the Dockerfile -- the list of instructions. The next steps run and share it."
   ]
  },
  {
   "cell_type": "markdown",
   "metadata": {
    "slideshow": {
     "slide_type": "fragment"
    }
   },
   "source": [
    "4. Build the Docker container\n",
    "5. Run the container\n",
    "6. Share the container"
   ]
  },
  {
   "cell_type": "markdown",
   "metadata": {
    "slideshow": {
     "slide_type": "slide"
    }
   },
   "source": [
    "### Step 1. Build a base image\n",
    "Create a Dockerfile (just name the file \"Dockerfile\") and start with the following lines:"
   ]
  },
  {
   "cell_type": "markdown",
   "metadata": {
    "slideshow": {
     "slide_type": "fragment"
    }
   },
   "source": [
    "```\n",
    "FROM python:3.6-slim\n",
    "RUN pip install jupyter numpy matplotlib\n",
    "```\n"
   ]
  },
  {
   "cell_type": "markdown",
   "metadata": {},
   "source": [
    "Or if you have a `requirements.txt` file you'd rather use:\n",
    "\n",
    "```\n",
    "FROM python:3.6-slim\n",
    "RUN pip install -r requirements.txt```\n",
    "\n"
   ]
  },
  {
   "cell_type": "markdown",
   "metadata": {
    "slideshow": {
     "slide_type": "slide"
    }
   },
   "source": [
    "If you would like to use conda as a package manager you need to make sure you activate a conda environment from within the container.\n",
    "```\n",
    "FROM continuumio/miniconda3\n",
    "RUN conda create -n env python=3.6\n",
    "RUN echo \"source activate env\" > ~/.bashrc\n",
    "ENV PATH /opt/conda/envs/env/bin:$PATH\n",
    "RUN conda install pip\n",
    "RUN pip install -r requirements.txt\n",
    "```\n",
    "I find this a bit convoluted and prefer to just use `pip` to install."
   ]
  },
  {
   "cell_type": "markdown",
   "metadata": {
    "slideshow": {
     "slide_type": "slide"
    }
   },
   "source": [
    "* A base image is another Docker image that has all your baseline needs.\n",
    "    * Can be anything from an empty linux environment to a hardened python environment with important libraries already installed.\n",
    "* This is also where you would install the tricky C libraries like `gcc` that can cause you to run into tons of issues later.\n",
    "* In that case you might want to start with a full operating system, rather than just a python base.\n"
   ]
  },
  {
   "cell_type": "markdown",
   "metadata": {},
   "source": [
    "```\n",
    "FROM jessie-slim:latest\n",
    "RUN apt-get update && apt-get -y update\n",
    "RUN apt-get install -y build-essential python3.6 python3-pip python3-dev\n",
    "# RUN apt-get install -y gcc clang\n",
    "RUN pip3 -q install pip –upgrade\n",
    "```"
   ]
  },
  {
   "cell_type": "markdown",
   "metadata": {
    "slideshow": {
     "slide_type": "slide"
    }
   },
   "source": [
    "### Step 2. Set up the source code Docker will run"
   ]
  },
  {
   "cell_type": "markdown",
   "metadata": {
    "slideshow": {
     "slide_type": "-"
    }
   },
   "source": [
    "If you have the repo/image, you can follow along in the `demo/` directory."
   ]
  },
  {
   "cell_type": "code",
   "execution_count": 5,
   "metadata": {
    "slideshow": {
     "slide_type": "fragment"
    }
   },
   "outputs": [
    {
     "name": "stdout",
     "output_type": "stream",
     "text": [
      "demo/\n",
      "    Dockerfile\n",
      "    Demo.ipynb\n",
      "    .ipynb_checkpoints/\n",
      "        Demo-checkpoint.ipynb\n",
      "    src/\n",
      "        data_pipeline.py\n",
      "        requirements.txt\n",
      "        __init__.py\n",
      "        new_module.py\n",
      "        data/\n",
      "            raw_data.csv\n"
     ]
    }
   ],
   "source": [
    "list_files('../demo')"
   ]
  },
  {
   "cell_type": "markdown",
   "metadata": {
    "slideshow": {
     "slide_type": "fragment"
    }
   },
   "source": [
    "Copy everything into a source directory on the container side.\n",
    "```\n",
    "RUN mkdir demo/\n",
    "WORKDIR demo/\n",
    "COPY . .\n",
    "```"
   ]
  },
  {
   "cell_type": "markdown",
   "metadata": {
    "slideshow": {
     "slide_type": "slide"
    }
   },
   "source": [
    "### Step 3. Prep your data and run your code\n"
   ]
  },
  {
   "cell_type": "markdown",
   "metadata": {
    "slideshow": {
     "slide_type": "-"
    }
   },
   "source": [
    "Run the process that will clean your data and train a model. This will save the trained model into your container as the result of your module.py process. It can then be used by the notebook code in the notebooks folder."
   ]
  },
  {
   "cell_type": "markdown",
   "metadata": {
    "slideshow": {
     "slide_type": "fragment"
    }
   },
   "source": [
    "```\n",
    "WORKDIR src/\n",
    "RUN python3 data_pipeline.py\n",
    "```"
   ]
  },
  {
   "cell_type": "markdown",
   "metadata": {
    "slideshow": {
     "slide_type": "subslide"
    }
   },
   "source": [
    "Since the `data_pipeline.py` process is going to save a **cleaned, deduplicated, processed dataset**, go ahead and **remove the raw data from the Docker image**. \n",
    "\n",
    "This will make the image smaller (and thus easier to download) but is entirely optional. If you anticipate that there will be changes to the process of cleaning and preparing the data you can leave it, but in general if you don’t need it, cut it out."
   ]
  },
  {
   "cell_type": "markdown",
   "metadata": {
    "slideshow": {
     "slide_type": "fragment"
    }
   },
   "source": [
    "```\n",
    "RUN rm /demo/src/data/raw_data.csv\n",
    "```"
   ]
  },
  {
   "cell_type": "markdown",
   "metadata": {
    "slideshow": {
     "slide_type": "fragment"
    }
   },
   "source": [
    "```\n",
    "WORKDIR /demo\n",
    "```"
   ]
  },
  {
   "cell_type": "markdown",
   "metadata": {
    "slideshow": {
     "slide_type": "fragment"
    }
   },
   "source": [
    "This ensures that whenever someone starts the Docker container, they will start at the notebook you have saved, which is good!"
   ]
  },
  {
   "cell_type": "markdown",
   "metadata": {
    "slideshow": {
     "slide_type": "subslide"
    }
   },
   "source": [
    "#### Final prep courtesy the [Jupyter Stacks project](https://github.com/jupyter/docker-stacks)"
   ]
  },
  {
   "cell_type": "markdown",
   "metadata": {
    "slideshow": {
     "slide_type": "fragment"
    }
   },
   "source": [
    "Add Tini. Tini operates as a process subreaper for jupyter. This prevents kernel crashes.\n",
    "```\n",
    "ENV TINI_VERSION v0.6.0\n",
    "ADD https://github.com/krallin/tini/releases/download/${TINI_VERSION}/tini /usr/bin/tini\n",
    "RUN chmod +x /usr/bin/tini\n",
    "ENTRYPOINT [\"/usr/bin/tini\", \"--\"]\n",
    "```"
   ]
  },
  {
   "cell_type": "markdown",
   "metadata": {
    "slideshow": {
     "slide_type": "notes"
    }
   },
   "source": [
    "* This code comes from the Jupyter Docker Stacks project, an open-source repository that builds ready-to-use data science notebooks to start development and visualization projects. \n",
    "    * These are great for development but loading new data into them can be a little tricky. \n",
    "* This process demonstrates that you can take a snippet from other Dockerfiles and include it in your own."
   ]
  },
  {
   "cell_type": "markdown",
   "metadata": {
    "slideshow": {
     "slide_type": "slide"
    }
   },
   "source": [
    "From there just start up the notebook at the end of the Dockerfile. Most of this is probably familiar if you have used Jupyter notebooks before.\n",
    "\n",
    "But take special note of the `port=8888` argument: we'll come back to it in Step 5."
   ]
  },
  {
   "cell_type": "markdown",
   "metadata": {
    "slideshow": {
     "slide_type": "-"
    }
   },
   "source": [
    "```\n",
    "CMD [\"jupyter\", \"notebook\", \"--port=8888\", \"--no-browser\", \"--ip=0.0.0.0\", \"--allow-root\", \"NotebookApp.token='pydata'\"]\n",
    "```"
   ]
  },
  {
   "cell_type": "markdown",
   "metadata": {
    "slideshow": {
     "slide_type": "-"
    }
   },
   "source": [
    "Most of these arguments are effectively using default Jupyter arguments that aren't really relevant to local development, but can be important when you are connecting a server to your local machine."
   ]
  },
  {
   "cell_type": "markdown",
   "metadata": {
    "slideshow": {
     "slide_type": "-"
    }
   },
   "source": [
    "The `NotebookApp.token` argument can be anything, even a blank string, which skips auth. "
   ]
  },
  {
   "cell_type": "markdown",
   "metadata": {
    "slideshow": {
     "slide_type": "notes"
    }
   },
   "source": [
    "Don't skip auth, especially if you are running a docker notebook not on your local machine but on a public server."
   ]
  },
  {
   "cell_type": "markdown",
   "metadata": {
    "slideshow": {
     "slide_type": "slide"
    }
   },
   "source": [
    "### Complete Dockerfile\n",
    "```\n",
    "FROM python:3.6-slim\n",
    "RUN pip install jupyter numpy matplotlib\n",
    "\n",
    "RUN mkdir demo/\n",
    "WORKDIR demo/\n",
    "COPY . .\n",
    "\n",
    "WORKDIR src/\n",
    "RUN python3 data_pipeline.py\n",
    "RUN rm data/raw_data.csv\n",
    "WORKDIR /demo\n",
    "\n",
    "\n",
    "ENV TINI_VERSION v0.6.0\n",
    "ADD https://github.com/krallin/tini/releases/download/${TINI_VERSION}/tini /usr/bin/tini\n",
    "RUN chmod +x /usr/bin/tini\n",
    "ENTRYPOINT [\"/usr/bin/tini\", \"--\"]\n",
    "\n",
    "CMD [\"jupyter\", \"notebook\", \"--port=8888\", \"--no-browser\", \"--ip=0.0.0.0\", \"--allow-root\", \"NotebookApp.token='pydata'\"]\n",
    "etc\n",
    "```"
   ]
  },
  {
   "cell_type": "markdown",
   "metadata": {
    "slideshow": {
     "slide_type": "slide"
    }
   },
   "source": [
    "### Step 4. Build a Docker container\n",
    "This step creates the virtual machine that holds your notebook, code, and data."
   ]
  },
  {
   "cell_type": "markdown",
   "metadata": {
    "slideshow": {
     "slide_type": "-"
    }
   },
   "source": [
    "```sh\n",
    "docker build -t myaccount/new_project .\n",
    "```"
   ]
  },
  {
   "cell_type": "markdown",
   "metadata": {
    "slideshow": {
     "slide_type": "fragment"
    }
   },
   "source": [
    "(Make sure you remember the dot here!)  ------------ ☝️"
   ]
  },
  {
   "cell_type": "markdown",
   "metadata": {
    "slideshow": {
     "slide_type": "fragment"
    }
   },
   "source": [
    "The `-t` argument allows you to to name the container. A good practice could be to name it for the project whose analysis you want to use, but it could be anything. "
   ]
  },
  {
   "cell_type": "markdown",
   "metadata": {
    "slideshow": {
     "slide_type": "slide"
    }
   },
   "source": [
    "### Step 5. Start the Jupyter notebook and log in"
   ]
  },
  {
   "cell_type": "markdown",
   "metadata": {
    "slideshow": {
     "slide_type": "fragment"
    }
   },
   "source": [
    "The irreducable command for another person to run it (what you ran at the beginning!):\n",
    "```\n",
    "docker run -p 8889:8888 myaccount/new_project\n",
    "```\n",
    "* You really just need to make sure to link the container's port (that Jupyter is running on) with your local computer's relevant port, and a way to point at the project you want them to open. \n",
    "* Remember that we set the token/password in the Dockerfile\n",
    "* If you don't set it there will be an automatically-generated token generated by jupyter in the terminal\n",
    "\n"
   ]
  },
  {
   "cell_type": "markdown",
   "metadata": {
    "slideshow": {
     "slide_type": "slide"
    }
   },
   "source": [
    "![](static/jupyter_login_page.png?height=700)\n"
   ]
  },
  {
   "cell_type": "markdown",
   "metadata": {
    "slideshow": {
     "slide_type": "slide"
    }
   },
   "source": [
    "### Step 5a. Some nice features to use instead"
   ]
  },
  {
   "cell_type": "markdown",
   "metadata": {
    "slideshow": {
     "slide_type": "-"
    }
   },
   "source": [
    "But some additional Docker features can be turned on for a little convenience:\n",
    "```\n",
    "docker run                      #  start up a container already built or pulled\n",
    "    -p 8889:8888                #  port used, <local port>:<container port>\n",
    "    -it                         #  run Docker interactively\n",
    "    --rm                        #  remove the container when it exits\n",
    "    -v `pwd`:/src/notebooks     #  use local files <local path>:<container path>\n",
    "    myaccount/new_project:1.0   #  use specified user/project:version container\n",
    "```"
   ]
  },
  {
   "cell_type": "markdown",
   "metadata": {
    "slideshow": {
     "slide_type": "fragment"
    }
   },
   "source": [
    "These are detailed in the appendix for those who want a more specific walkthrough."
   ]
  },
  {
   "cell_type": "markdown",
   "metadata": {
    "slideshow": {
     "slide_type": "slide"
    }
   },
   "source": [
    "### Step 6. Push to Docker Hub repository for sharing\n"
   ]
  },
  {
   "cell_type": "markdown",
   "metadata": {
    "slideshow": {
     "slide_type": "notes"
    }
   },
   "source": [
    "* If you don't want to use DockerHub, AWS elastic container registry (ECR) is essentially a private Docker Hub"
   ]
  },
  {
   "cell_type": "markdown",
   "metadata": {
    "slideshow": {
     "slide_type": "-"
    }
   },
   "source": [
    "* Ensure you are logged in to Docker Hub\n",
    "![](static/docker_login.png)\n",
    "\n",
    "Then \n",
    "```\n",
    "docker push myaccount/new_project\n",
    "```\n",
    "* Creates the tag `latest` if no version or other tag is specified."
   ]
  },
  {
   "cell_type": "markdown",
   "metadata": {
    "slideshow": {
     "slide_type": "slide"
    }
   },
   "source": [
    "## References and Resources\n",
    "\n",
    "- [RISE](https://github.com/damianavila/RISE) is a Jupyter extension that allows running of notebooks iteratively as slides\n",
    "- Matt Speck's [guide to launching slides](https://medium.com/@mjspeck/presenting-code-using-jupyter-notebook-slides-a8a3c3b59d67) using a Jupyter notebook\n",
    "- Amit Rathi's [blog post on jupyter diffs](https://blog.amirathi.com/2018/07/23/github-with-jupyter-notebook/)\n",
    "- Jupyter notebook [security blog post](https://blog.jupyter.org/public-notebooks-and-security-3058c433c884)\n",
    "- The [Jupyter Stacks project](https://github.com/jupyter/docker-stacks), Docker images intended as ready-to-run starting points\n",
    "- Chad Lagore's [discussion on using conda](https://medium.com/@chadlagore/conda-environments-with-docker-82cdc9d25754) within Docker\n",
    "\n",
    "## \"Why don't you just...\"\n",
    "There are good alternative solutions to almost everything I've presented here. This is one way to do it. Do it other ways if you like those better! Here are a couple of suggestions\n",
    "- Simplify your notebook's json output for version control diffs with [nbconvert](https://nextjournal.com/schmudde/how-to-version-control-jupyter) or [nbdime](https://github.com/jupyter/nbdime)\n",
    "- [Repo2Docker](https://hub.docker.com/r/jupyter/repo2docker), a Jupyter-built Docker image specifically for turning a git repository into a Jupyter-enabled "
   ]
  },
  {
   "cell_type": "markdown",
   "metadata": {
    "slideshow": {
     "slide_type": "slide"
    }
   },
   "source": [
    "## Questions?\n",
    "\n",
    "\n",
    "Talk by Brian Austin - [austinbrian.github.io](https://austinbrian.github.io/about/)\n",
    "\n",
    "* Github repo: https://github.com/austinbrian/jupydocker\n",
    "* Docker Hub: https://hub.docker.com/r/brianaustin/jupydocker"
   ]
  },
  {
   "cell_type": "markdown",
   "metadata": {
    "slideshow": {
     "slide_type": "slide"
    }
   },
   "source": [
    "---"
   ]
  },
  {
   "cell_type": "markdown",
   "metadata": {
    "slideshow": {
     "slide_type": "slide"
    }
   },
   "source": [
    "## Appendix"
   ]
  },
  {
   "cell_type": "markdown",
   "metadata": {
    "slideshow": {
     "slide_type": "slide"
    }
   },
   "source": [
    "### Step 5a. Optional run features"
   ]
  },
  {
   "cell_type": "markdown",
   "metadata": {
    "slideshow": {
     "slide_type": "-"
    }
   },
   "source": [
    "But some additional Docker features can be turned on for a little convenience:\n",
    "```\n",
    "docker run                      #  start up a container already built or pulled\n",
    "    -p 8889:8888                #  port used, <local port>:<container port>\n",
    "    -it                         #  run Docker interactively\n",
    "    --rm                        #  remove the container when it exits\n",
    "    -v `pwd`:/src/notebooks     #  use local files <local path>:<container path>\n",
    "    myaccount/new_project:1.0   #  use specified user/project:version container\n",
    "```"
   ]
  },
  {
   "cell_type": "markdown",
   "metadata": {
    "slideshow": {
     "slide_type": "slide"
    }
   },
   "source": [
    "#### Let's step through those lines\n",
    "```\n",
    "docker run                      #  start up a container already built or pulled\n",
    "    -p 8889:8888                #  port used, <local port>:<container port>\n",
    "    -it                         #  run Docker interactively\n",
    "```\n",
    "* The `run` step starts up the container and `-p` points at the port necessary to run it. \n",
    "* The `-it` argument allows you to make changes to it after you open it, like installing a new library from the command line. "
   ]
  },
  {
   "cell_type": "markdown",
   "metadata": {
    "slideshow": {
     "slide_type": "notes"
    }
   },
   "source": [
    "This is mostly the kind of behavior we want to avoid for analysis purposes, but it can become useful in some circumstances."
   ]
  },
  {
   "cell_type": "markdown",
   "metadata": {
    "slideshow": {
     "slide_type": "fragment"
    }
   },
   "source": [
    "    --rm                        #  remove the container when it exits\n",
    "\n",
    "* `--rm` Keeps you from cluttering up your local system with a lot of containers, which can be memory-intensive.\n",
    "* Note that it takes two dashes, rather than one\n"
   ]
  },
  {
   "cell_type": "markdown",
   "metadata": {
    "slideshow": {
     "slide_type": "slide"
    }
   },
   "source": [
    "    -v `pwd`:/src/notebooks     #  use local files <local path>:<container path>\n",
    "* The `-v` argument will mount a volume, here using the present working directory locally, and connecting to the `/notebooks` path on the container. \n",
    "* Remember that we put our Jupyter notebooks into the `/src/notebooks` folder in the Dockerfile, and that it should look like the current directory\n",
    "* Allows you to make changes to a local file while using a container to run that file"
   ]
  },
  {
   "cell_type": "markdown",
   "metadata": {
    "slideshow": {
     "slide_type": "fragment"
    }
   },
   "source": [
    "    myaccount/new_project:1.0   #  use specified user/project:version container    \n",
    "* The account, project name, and version you're pulling (or `latest`) goes at the end of the run command."
   ]
  }
 ],
 "metadata": {
  "celltoolbar": "Slideshow",
  "kernelspec": {
   "display_name": "Python 3",
   "language": "python",
   "name": "python3"
  },
  "language_info": {
   "codemirror_mode": {
    "name": "ipython",
    "version": 3
   },
   "file_extension": ".py",
   "mimetype": "text/x-python",
   "name": "python",
   "nbconvert_exporter": "python",
   "pygments_lexer": "ipython3",
   "version": "3.6.5"
  }
 },
 "nbformat": 4,
 "nbformat_minor": 2
}
