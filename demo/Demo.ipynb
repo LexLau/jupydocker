{
 "cells": [
  {
   "cell_type": "markdown",
   "metadata": {},
   "source": [
    "# Demonstration Notebook"
   ]
  },
  {
   "cell_type": "markdown",
   "metadata": {},
   "source": [
    "## Jupyter use cases"
   ]
  },
  {
   "cell_type": "markdown",
   "metadata": {},
   "source": [
    "### Persistent REPL"
   ]
  },
  {
   "cell_type": "code",
   "execution_count": null,
   "metadata": {},
   "outputs": [],
   "source": [
    "# how do I zip up json objects again?\n",
    "\n",
    "d_a = [{'some':24,'stuff':14},{'other':68, 'things':84}]\n",
    "d_b = [{'entirely':18,'added':77},{'more':66,'keys':27}]\n",
    "all_dicts = list(map(lambda a,b: dict(a, **b), d_a, d_b))\n",
    "all_dicts"
   ]
  },
  {
   "cell_type": "markdown",
   "metadata": {},
   "source": [
    "### Analysis Demonstration"
   ]
  },
  {
   "cell_type": "code",
   "execution_count": null,
   "metadata": {},
   "outputs": [],
   "source": [
    "import matplotlib.pyplot as plt\n",
    "%matplotlib inline\n",
    "objects = list(x for sublist in all_dicts for x in sublist.keys())\n",
    "y_pos = range(len(objects))\n",
    "vals = [x for sublist in all_dicts for x in sublist.values()]\n",
    "\n",
    "plt.bar(y_pos, vals, align='center', alpha=0.7)\n",
    "plt.xticks(y_pos, objects)\n",
    "plt.ylabel('Values')\n",
    "plt.title('Values of things and stuff')\n",
    "plt.show()"
   ]
  },
  {
   "cell_type": "markdown",
   "metadata": {},
   "source": [
    "### Library Walkthrough"
   ]
  },
  {
   "cell_type": "markdown",
   "metadata": {},
   "source": [
    "This section includes a brief discussion of ways to make changes to use Jupyter (and IPython) for library development. One of the nicest features is the `autoreload` extension. When set with 2, as below, it re-imports the library every time a cell is run. This makes it convenient to edit functions of the library in a text editor outside Jupyter, and test/experiment within Jupyter without continually restarting kernels."
   ]
  },
  {
   "cell_type": "code",
   "execution_count": null,
   "metadata": {},
   "outputs": [],
   "source": [
    "!ls -al src/"
   ]
  },
  {
   "cell_type": "code",
   "execution_count": null,
   "metadata": {},
   "outputs": [],
   "source": [
    "%load_ext autoreload\n",
    "%autoreload 2\n",
    "\n",
    "from src import new_module"
   ]
  },
  {
   "cell_type": "markdown",
   "metadata": {},
   "source": [
    "The `%load` magic loads in the full file to the cell in question. "
   ]
  },
  {
   "cell_type": "code",
   "execution_count": null,
   "metadata": {},
   "outputs": [],
   "source": [
    "%load src/new_module.py"
   ]
  },
  {
   "cell_type": "markdown",
   "metadata": {},
   "source": [
    "If you change the function(s) that appear when `%load` is called and include `%%writefile src/new_module.py` in the first line, Jupyter will silently write changes to the module into the directory."
   ]
  }
 ],
 "metadata": {
  "kernelspec": {
   "display_name": "Python (alsaenv)",
   "language": "python",
   "name": "alsaenv"
  },
  "language_info": {
   "codemirror_mode": {
    "name": "ipython",
    "version": 3
   },
   "file_extension": ".py",
   "mimetype": "text/x-python",
   "name": "python",
   "nbconvert_exporter": "python",
   "pygments_lexer": "ipython3",
   "version": "3.6.5"
  }
 },
 "nbformat": 4,
 "nbformat_minor": 2
}
